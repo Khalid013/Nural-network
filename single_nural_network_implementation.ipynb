{
  "nbformat": 4,
  "nbformat_minor": 0,
  "metadata": {
    "colab": {
      "provenance": []
    },
    "kernelspec": {
      "name": "python3",
      "display_name": "Python 3"
    },
    "language_info": {
      "name": "python"
    }
  },
  "cells": [
    {
      "cell_type": "markdown",
      "source": [
        "# **Create a single nural network**"
      ],
      "metadata": {
        "id": "yFu1y76-zXHt"
      }
    },
    {
      "cell_type": "code",
      "source": [
        "!pip install numpy"
      ],
      "metadata": {
        "colab": {
          "base_uri": "https://localhost:8080/"
        },
        "id": "VtVi80lPzhYy",
        "outputId": "3c37cccc-79fe-4bff-e86c-4345456a1d76"
      },
      "execution_count": 7,
      "outputs": [
        {
          "output_type": "stream",
          "name": "stdout",
          "text": [
            "Requirement already satisfied: numpy in /usr/local/lib/python3.12/dist-packages (2.0.2)\n"
          ]
        }
      ]
    },
    {
      "cell_type": "code",
      "source": [
        "import math"
      ],
      "metadata": {
        "id": "Rl4jvGcczq_w"
      },
      "execution_count": 8,
      "outputs": []
    },
    {
      "cell_type": "code",
      "source": [
        "def sigmoid(y):\n",
        "  return 1/(1+math.exp(-y))"
      ],
      "metadata": {
        "id": "a_AtXPEnzxs8"
      },
      "execution_count": 9,
      "outputs": []
    },
    {
      "cell_type": "code",
      "source": [
        "def feedforward(weight,bias,input):\n",
        "  total=sum(w*x for w,x in zip(weight,input))+bias\n",
        "  return sigmoid(total)"
      ],
      "metadata": {
        "id": "f61833UfBn7L"
      },
      "execution_count": 10,
      "outputs": []
    },
    {
      "cell_type": "code",
      "source": [
        "weight=[0,1]\n",
        "bias=0.5\n",
        "input=[2,3]\n",
        "output=feedforward(weight,bias,input)\n",
        "print(output)"
      ],
      "metadata": {
        "colab": {
          "base_uri": "https://localhost:8080/"
        },
        "id": "n1AZA7f4BQS4",
        "outputId": "48df2f4f-9810-4d83-854b-ff34e0166cdd"
      },
      "execution_count": 11,
      "outputs": [
        {
          "output_type": "stream",
          "name": "stdout",
          "text": [
            "0.9706877692486436\n"
          ]
        }
      ]
    }
  ]
}